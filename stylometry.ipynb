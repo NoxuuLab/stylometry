{
 "cells": [
  {
   "cell_type": "code",
   "execution_count": 1,
   "id": "5dfad9e0-b60b-430e-8f46-1ce8933f0f9f",
   "metadata": {},
   "outputs": [],
   "source": [
    "import nltk"
   ]
  },
  {
   "cell_type": "code",
   "execution_count": 2,
   "id": "03cc13f9-5687-4117-8f3a-fd0e057c2064",
   "metadata": {},
   "outputs": [],
   "source": [
    "#nltk.download('punkt')"
   ]
  },
  {
   "cell_type": "code",
   "execution_count": 3,
   "id": "44148253-f89d-4c10-9c86-0844621a6049",
   "metadata": {},
   "outputs": [],
   "source": [
    "#nltk.download('stopwords')"
   ]
  },
  {
   "cell_type": "code",
   "execution_count": 4,
   "id": "f646ae84-ed69-42ad-97b0-c195426cb7a1",
   "metadata": {},
   "outputs": [],
   "source": [
    "#nltk.download('averaged_perceptron_tagger')"
   ]
  },
  {
   "cell_type": "code",
   "execution_count": 5,
   "id": "6c8470b4-b656-4988-a579-ce6b10e89e93",
   "metadata": {},
   "outputs": [],
   "source": [
    "#nltk.download()"
   ]
  },
  {
   "cell_type": "code",
   "execution_count": 6,
   "id": "606fa982-8dd7-47d2-b288-4b0d31141ff1",
   "metadata": {},
   "outputs": [],
   "source": [
    "from nltk import punkt"
   ]
  },
  {
   "cell_type": "code",
   "execution_count": 7,
   "id": "0c548d69-1c62-43df-b5f6-a6b338b40ca2",
   "metadata": {},
   "outputs": [],
   "source": [
    "from nltk.corpus import stopwords"
   ]
  },
  {
   "cell_type": "code",
   "execution_count": 8,
   "id": "cfc59a60-cc4b-4d27-aa9e-32cd344c2aea",
   "metadata": {},
   "outputs": [],
   "source": [
    "import matplotlib.pyplot as plt"
   ]
  },
  {
   "cell_type": "markdown",
   "id": "4857824a-4dee-4320-8de1-f960aa654f4f",
   "metadata": {},
   "source": [
    "description ici"
   ]
  },
  {
   "cell_type": "markdown",
   "id": "125736b2-e2fb-4d33-95c7-39dc2c6a196b",
   "metadata": {},
   "source": [
    "def main ici\n"
   ]
  },
  {
   "cell_type": "markdown",
   "id": "8e03a4ec-e337-45e3-b8df-90e95fb2ce89",
   "metadata": {},
   "source": [
    "ouvrir le txt document et le transformer en string"
   ]
  },
  {
   "cell_type": "code",
   "execution_count": 9,
   "id": "0dd3ac7f-9510-4c1e-a3c1-15815b7b3adf",
   "metadata": {},
   "outputs": [],
   "source": [
    "def text_to_string(filename):\n",
    "    with open(filename) as infile:\n",
    "        return infile.read()"
   ]
  },
  {
   "cell_type": "markdown",
   "id": "e5a8d1ce-c4dd-4cb3-8927-c4e5b4b99d03",
   "metadata": {},
   "source": [
    "\"\"\"Return dictionary of tokenized words by corpus by book.egalement on a besoin de mettre tous les token en lower case"
   ]
  },
  {
   "cell_type": "code",
   "execution_count": 10,
   "id": "f2c67bbe-2a29-419f-a7e5-091f34fad185",
   "metadata": {},
   "outputs": [],
   "source": [
    "def make_word_dict(strings_from_book):\n",
    "    \n",
    "    words_from_book = dict()\n",
    "    for book in strings_from_book:\n",
    "        tokens = nltk.word_tokenize(strings_from_book[book])\n",
    "        words_from_book[book] = ([token.lower() for token in tokens\n",
    "                                    if token.isalpha()])\n",
    "    return words_from_book"
   ]
  },
  {
   "cell_type": "code",
   "execution_count": 11,
   "id": "ab00c7c1-cfbe-4155-ade3-50d75275982e",
   "metadata": {},
   "outputs": [
    {
     "name": "stdout",
     "output_type": "stream",
     "text": [
      "\n",
      "\n",
      "Letter 1\n",
      "\n",
      "_To Mrs. Saville, England._\n",
      "\n",
      "\n",
      "St. Petersburgh, Dec. 11th, 17—.\n",
      "\n",
      "\n",
      "You will rejoice to hear that no disaster has accompanied the\n",
      "commencement of an enterprise which you have regarded with such evil\n",
      "forebodings. I arrived here yesterday, and my first task is to assure\n",
      "my dear sister of my w\n"
     ]
    }
   ],
   "source": [
    "strings_from_book = dict()\n",
    "strings_from_book['Frankenstein'] = text_to_string('/Users/marcela/Documents/GitHub/stylometry/txt/frankenstein.txt')\n",
    "strings_from_book['Last Man'] = text_to_string('/Users/marcela/Documents/GitHub/stylometry/txt/LastMan.txt')\n",
    "\n",
    "print(strings_from_book['Frankenstein'][:300]) "
   ]
  },
  {
   "cell_type": "code",
   "execution_count": 12,
   "id": "43d232b5-f35f-41e6-b81b-4e0dd4954410",
   "metadata": {},
   "outputs": [],
   "source": [
    "frankenstein = text_to_string('/Users/marcela/Documents/GitHub/stylometry/txt/frankenstein.txt')"
   ]
  },
  {
   "cell_type": "code",
   "execution_count": 13,
   "id": "51e31006-f722-4229-84ac-5f018acf7fe7",
   "metadata": {},
   "outputs": [],
   "source": [
    "LINES = ['-', ':', '--']\n",
    "words_from_book = make_word_dict(strings_from_book)"
   ]
  },
  {
   "cell_type": "raw",
   "id": "699ea070-4fa5-48a2-8620-8fcfdbd87086",
   "metadata": {},
   "source": []
  },
  {
   "cell_type": "code",
   "execution_count": 14,
   "id": "5952889f-33d1-458d-bb57-61509dd25c57",
   "metadata": {},
   "outputs": [],
   "source": [
    "def find_shortest_corpus(words_by_author):\n",
    "    word_count = []\n",
    "    for author in words_by_author:\n",
    "        word_count.append(len(words_by_author[author]))\n",
    "        print('\\nNumber of words for {} = {}\\n'.\n",
    "              format(author, len(words_by_author[author])))\n",
    "    len_shortest_corpus = min(word_count)\n",
    "    print('length shortest corpus = {}\\n'.format(len_shortest_corpus))\n",
    "    \n",
    "    return len_shortest_corpus"
   ]
  },
  {
   "cell_type": "code",
   "execution_count": 15,
   "id": "b7d2f688-0e0b-40bb-8503-fc65bf17cbb9",
   "metadata": {},
   "outputs": [],
   "source": [
    "def stopwords_test(words_from_book, frankenstein):\n",
    "    stopwords_by_book_freq_dist = dict()\n",
    "    plt.figure(2)\n",
    "    stop_words = set(stopwords.words('english'))  # Use set for speed.\n",
    "    print('Number of stopwords = {}\\n'.format(len(stop_words)))\n",
    "    print('Stopwords = {}\\n'.format(stop_words))\n",
    "    for i, book in enumerate(words_from_book):\n",
    "        stopwords_by_book = [word for word in words_from_book[book]\n",
    "        [:len_shortest_corpus] if word in stop_words]\n",
    "        stopwords_by_book_freq_dist[book] = nltk.FreqDist(stopwords_by_book)\n",
    "        stopwords_by_book_freq_dist[book].plot(50,\n",
    "                                                   label=book,\n",
    "                                                   linestyle=LINES[i],\n",
    "                                                   title=\n",
    "                                                   '50 Most Common Stopwords')\n",
    "    plt.legend()\n",
    "\n",
    "\n",
    "plt.show()"
   ]
  },
  {
   "cell_type": "code",
   "execution_count": 16,
   "id": "7a55fe07-d18d-4b3f-8103-af4533b98b9f",
   "metadata": {},
   "outputs": [
    {
     "name": "stdout",
     "output_type": "stream",
     "text": [
      "\n",
      "Number of words for Frankenstein = 74564\n",
      "\n",
      "\n",
      "Number of words for Last Man = 173034\n",
      "\n",
      "length shortest corpus = 74564\n",
      "\n"
     ]
    }
   ],
   "source": [
    "len_shortest_corpus = find_shortest_corpus(words_from_book)"
   ]
  },
  {
   "cell_type": "code",
   "execution_count": 17,
   "id": "a7814011-77b4-4b4a-94a8-e24c1a1d5c14",
   "metadata": {},
   "outputs": [
    {
     "name": "stdout",
     "output_type": "stream",
     "text": [
      "Number of stopwords = 179\n",
      "\n",
      "Stopwords = {'who', 'them', 'be', 'were', 'because', 'from', 'there', \"shan't\", 'what', 'shouldn', \"weren't\", 'wouldn', \"you'll\", 'hers', 'a', 'was', 'hadn', 'just', 've', \"it's\", 'such', 's', \"needn't\", 'on', 'her', 'ourselves', \"doesn't\", 'i', 'off', 'up', 'why', 'it', 're', 'won', 'where', 'too', 'the', 'with', 'hasn', 'in', 'of', 'ain', 'our', 'not', \"aren't\", 'he', 'this', 'weren', 'until', 'his', 'my', 'these', 'both', \"isn't\", 'whom', 'very', 'your', 'if', 'while', 'wasn', 'myself', 'only', 'can', 'same', 'above', \"mustn't\", 'doing', 'any', 'by', \"should've\", 'to', \"you'd\", 'down', 'again', 'itself', 'few', 'and', \"didn't\", 'all', 'haven', 'ma', \"she's\", 'have', \"couldn't\", 'between', 'at', 'they', 'once', 'then', 'how', 'out', 'as', 'which', 'she', 'below', 'here', 'yourself', \"wasn't\", 'during', 'couldn', 'now', 'is', 'those', 'into', 't', 'am', \"wouldn't\", 'own', 'further', 'more', 'him', 'theirs', 'needn', 'yourselves', \"don't\", 'herself', 'don', 'no', 'didn', 'about', 'll', 'yours', 'o', \"shouldn't\", 'having', 'through', 'than', 'so', 'before', 'd', 'other', 'himself', 'some', \"hasn't\", 'or', 'will', \"won't\", 'its', 'after', 'been', 'are', 'had', 'over', 'an', 'being', 'for', 'their', 'when', \"haven't\", 'ours', 'you', 'but', 'themselves', 'did', \"you're\", 'against', 'nor', 'each', 'has', \"hadn't\", 'isn', 'mustn', 'm', 'does', 'that', 'should', 'mightn', 'doesn', 'we', \"that'll\", 'aren', \"you've\", 'me', 'y', \"mightn't\", 'do', 'under', 'shan', 'most'}\n",
      "\n"
     ]
    },
    {
     "data": {
      "image/png": "[encoded data removed]",
      "text/plain": [
       "<Figure size 432x288 with 1 Axes>"
      ]
     },
     "metadata": {
      "needs_background": "light"
     },
     "output_type": "display_data"
    },
    {
     "data": {
      "image/png": "[encoded data removed]",
      "text/plain": [
       "<Figure size 432x288 with 1 Axes>"
      ]
     },
     "metadata": {
      "needs_background": "light"
     },
     "output_type": "display_data"
    },
    {
     "name": "stderr",
     "output_type": "stream",
     "text": [
      "No handles with labels found to put in legend.\n"
     ]
    },
    {
     "data": {
      "image/png": "[encoded data removed]",
      "text/plain": [
       "<Figure size 432x288 with 1 Axes>"
      ]
     },
     "metadata": {
      "needs_background": "light"
     },
     "output_type": "display_data"
    }
   ],
   "source": [
    "stopwords_test(words_from_book, len_shortest_corpus)"
   ]
  },
  {
   "cell_type": "code",
   "execution_count": null,
   "id": "361ecc6a-d517-495c-b5bb-3e9a03604584",
   "metadata": {},
   "outputs": [],
   "source": []
  },
  {
   "cell_type": "code",
   "execution_count": null,
   "id": "4825e7b8-cee3-40b7-b4db-708afbe738b9",
   "metadata": {},
   "outputs": [],
   "source": []
  }
 ],
 "metadata": {
  "kernelspec": {
   "display_name": "Python 3 (ipykernel)",
   "language": "python",
   "name": "python3"
  },
  "language_info": {
   "codemirror_mode": {
    "name": "ipython",
    "version": 3
   },
   "file_extension": ".py",
   "mimetype": "text/x-python",
   "name": "python",
   "nbconvert_exporter": "python",
   "pygments_lexer": "ipython3",
   "version": "3.8.12"
  }
 },
 "nbformat": 4,
 "nbformat_minor": 5
}
