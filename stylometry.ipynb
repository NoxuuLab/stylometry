{
 "cells": [
  {
   "cell_type": "markdown",
   "id": "410d2476-e8ca-4c7a-b84a-392b12d4e260",
   "metadata": {},
   "source": [
    "### <center>Le nouveau Frankenstein:</center><br><center>quand l'intelligence artificielle peut écrire le fiction</center>"
   ]
  },
  {
   "cell_type": "markdown",
   "id": "ace04b41-4d0f-4654-bc93-a8846132afce",
   "metadata": {},
   "source": [
    "Ces dernières années, l'intelligence artificielle a évolué au point qu'elle peut créer des œuvres de fiction. Mais à mesure que l'IA commence à écrire ses propres histoires, la ligne entre l'homme et la machine commence à se brouiller. Plus l'IA devient \"créative\", plus il sera difficile de différencier entre les textes écrites par l'humain et par la machine. Est-ce que les méthodes de stylométrie peuvent nous aider dans la distinction qui a écrit un livre? Est-ce que la machine peut reproduit fidèlement le style d'auteur? Les êtres humains peuvent-ils contrôler le monstre qu'ils ont créé?"
   ]
  },
  {
   "cell_type": "markdown",
   "id": "d0a5a2a8-bd40-4111-b764-76cc7f0ba391",
   "metadata": {},
   "source": [
    "#### Préparation de l'environement "
   ]
  },
  {
   "cell_type": "markdown",
   "id": "2430d279-090c-443b-b4e8-0c9e2ca4f93a",
   "metadata": {},
   "source": [
    "Avant proceder aux analyses, j'importe les modules Python nécessaires pour les traitements des textes.\n",
    "Actuellement je travaille avec <b>Python 3.9</b><br>\n",
    "<br>\n",
    "<b>Les libraries:</b><br>\n",
    "<br>\n",
    "<b>nltk</b> - Natural Language Toolkit, un module Python dédié au traitement du langage naturel.<br>\n",
    "<b>matplotlib</b> - la librairie pour pouvoir afficher les graph<br><br>"
   ]
  },
  {
   "cell_type": "code",
   "execution_count": 1,
   "id": "5dfad9e0-b60b-430e-8f46-1ce8933f0f9f",
   "metadata": {},
   "outputs": [],
   "source": [
    "import nltk"
   ]
  },
  {
   "cell_type": "code",
   "execution_count": 2,
   "id": "03cc13f9-5687-4117-8f3a-fd0e057c2064",
   "metadata": {},
   "outputs": [],
   "source": [
    "#nltk.download('punkt')"
   ]
  },
  {
   "cell_type": "code",
   "execution_count": 3,
   "id": "44148253-f89d-4c10-9c86-0844621a6049",
   "metadata": {},
   "outputs": [],
   "source": [
    "#nltk.download('stopwords')"
   ]
  },
  {
   "cell_type": "code",
   "execution_count": 4,
   "id": "f646ae84-ed69-42ad-97b0-c195426cb7a1",
   "metadata": {},
   "outputs": [],
   "source": [
    "#nltk.download('averaged_perceptron_tagger')"
   ]
  },
  {
   "cell_type": "code",
   "execution_count": 5,
   "id": "6c8470b4-b656-4988-a579-ce6b10e89e93",
   "metadata": {},
   "outputs": [],
   "source": [
    "#nltk.download()"
   ]
  },
  {
   "cell_type": "code",
   "execution_count": 6,
   "id": "606fa982-8dd7-47d2-b288-4b0d31141ff1",
   "metadata": {},
   "outputs": [],
   "source": [
    "from nltk import punkt"
   ]
  },
  {
   "cell_type": "code",
   "execution_count": 7,
   "id": "0c548d69-1c62-43df-b5f6-a6b338b40ca2",
   "metadata": {},
   "outputs": [],
   "source": [
    "from nltk.corpus import stopwords"
   ]
  },
  {
   "cell_type": "code",
   "execution_count": 8,
   "id": "cfc59a60-cc4b-4d27-aa9e-32cd344c2aea",
   "metadata": {},
   "outputs": [],
   "source": [
    "import matplotlib.pyplot as plt"
   ]
  },
  {
   "cell_type": "markdown",
   "id": "f72a94ec-c2f3-4148-8a0e-86daf6e9b148",
   "metadata": {},
   "source": [
    "pour afficher matplotlib en Jupyter Notebook"
   ]
  },
  {
   "cell_type": "code",
   "execution_count": 9,
   "id": "e40230ac-7c0c-4fec-8833-e35b0304172e",
   "metadata": {},
   "outputs": [],
   "source": [
    "%matplotlib inline"
   ]
  },
  {
   "cell_type": "markdown",
   "id": "125736b2-e2fb-4d33-95c7-39dc2c6a196b",
   "metadata": {},
   "source": [
    "#### La préparation des données pour l'analyse\n"
   ]
  },
  {
   "cell_type": "markdown",
   "id": "bc476703-0e53-4226-afcc-a9b8256656d9",
   "metadata": {},
   "source": [
    "Avant de pouvoir procéder à une analyse stylométrique, nous devons charger les fichiers txt pour travailler plus convenablement avec les données. Dans mon travail je vais utiliser avec trois cathégories de texte pour faire l'analyse avec les méthodes d'attribution d'auteur. \n",
    "<br><br>\n",
    "La fonction text_to_string:\n",
    "<br>\n",
    "1. Elle prend en paramètre un nom de fichier.\n",
    "2. Elle ouvre le fichier et lit le contenu.\n",
    "3. Elle renvoie le contenu du fichier."
   ]
  },
  {
   "cell_type": "code",
   "execution_count": 11,
   "id": "0dd3ac7f-9510-4c1e-a3c1-15815b7b3adf",
   "metadata": {},
   "outputs": [],
   "source": [
    "def text_to_string(filename):\n",
    "    with open(filename) as infile:\n",
    "        return infile.read()"
   ]
  },
  {
   "cell_type": "markdown",
   "id": "8a7d042a-e432-4ac4-a090-34ef7c344acd",
   "metadata": {},
   "source": [
    "Les oeuvres analysés sont convertis en string et stockés dans le dictionaire string_by_author.<br><br>\n",
    "J'ai trois textes: <br>\n",
    "1. strings_by_author['Shelley'] répresent les deux oeuvres majeurs de Mary Shelley (Frankenstein et The Last Man)<br>\n",
    "2. strings_by_author['Unwritten'] répresent les oeuvres généré par GPT3<br>\n",
    "3. strings_by_author['FanFiction']répresent l'oeuvre de FanFiction, écrit dans le style d'auteur (<a href=\"lien\">https://www.fanfiction.net/s/13990191/1/Stay</a>)<br><br>\n"
   ]
  },
  {
   "cell_type": "code",
   "execution_count": 12,
   "id": "ab00c7c1-cfbe-4155-ade3-50d75275982e",
   "metadata": {
    "tags": []
   },
   "outputs": [],
   "source": [
    "strings_by_author = dict()\n",
    "strings_by_author['Shelley'] = text_to_string('/Users/marcela/Documents/GitHub/stylometry/txt/frankenstein.txt')+text_to_string('/Users/marcela/Documents/GitHub/stylometry/txt/LastMan.txt')\n",
    "strings_by_author['Unwritten'] = text_to_string('/Users/marcela/Documents/GitHub/stylometry/txt/unwritten.txt')\n",
    "strings_by_author['FanFiction'] = text_to_string('/Users/marcela/Documents/GitHub/stylometry/txt/fanfic.txt')"
   ]
  },
  {
   "cell_type": "markdown",
   "id": "b5739cd3-7e55-4a8d-be8c-81e460f3b162",
   "metadata": {},
   "source": [
    "Pour explorer le début de corpus et vérifier que les donnés sont stocké correctement je vais afficher le premiers 300 caractères de chaque corpus. "
   ]
  },
  {
   "cell_type": "code",
   "execution_count": 13,
   "id": "9c8ba214-4adb-42d1-bcc1-8e7980e1045f",
   "metadata": {},
   "outputs": [
    {
     "name": "stdout",
     "output_type": "stream",
     "text": [
      "First 300 characters from Shelley's novels:\n",
      "\n",
      "\n",
      "Letter 1\n",
      "\n",
      "_To Mrs. Saville, England._\n",
      "\n",
      "\n",
      "St. Petersburgh, Dec. 11th, 17—.\n",
      "\n",
      "\n",
      "You will rejoice to hear that no disaster has accompanied the\n",
      "commencement of an enterprise which you have regarded with such evil\n",
      "forebodings. I arrived here yesterday, and my first task is to assure\n",
      "my dear sister of my w\n"
     ]
    }
   ],
   "source": [
    "print(\"First 300 characters from Shelley's novels:\\n\" + strings_by_author['Shelley'][:300])  "
   ]
  },
  {
   "cell_type": "code",
   "execution_count": 14,
   "id": "3001c1b1-0251-4d9a-8e34-470d9621d49e",
   "metadata": {},
   "outputs": [
    {
     "name": "stdout",
     "output_type": "stream",
     "text": [
      "First 300 characters from GPT3's novels:\n",
      "In the days that followed, I lost myself in the old books at my father’s library. I could not read them all, of course; but I read a great many of them. I rose early, before the sun, and then I could not sleep at night. I had a nameless, restless energy; but I did not know what to do with it. I was \n"
     ]
    }
   ],
   "source": [
    "print(\"First 300 characters from GPT3's novels:\\n\" + strings_by_author['Unwritten'][:300]) "
   ]
  },
  {
   "cell_type": "code",
   "execution_count": 15,
   "id": "63176b91-2e9a-4619-804e-eceb616b961a",
   "metadata": {},
   "outputs": [
    {
     "name": "stdout",
     "output_type": "stream",
     "text": [
      "First 300 characters from Fan Fiction's novels:\n",
      "Stay\n",
      "By: Pappenheimer\n",
      "November 3, 1793. Victor Frankenstein stands alone in his apartment while the storm rages about. Life from Death. It's his chance to steal from what was God's domain. But when his Creation stirs, he finds an unsightly monster instead of perfection. But rather than both Frankens\n"
     ]
    }
   ],
   "source": [
    "print(\"First 300 characters from Fan Fiction's novels:\\n\" + strings_by_author['FanFiction'][:300])"
   ]
  },
  {
   "cell_type": "markdown",
   "id": "96eb0411-cf41-47da-9bf8-3340177e247e",
   "metadata": {},
   "source": [
    "La fonction word_dict<br>\n",
    "\n",
    "1. Elle crée un dictionnaire vide appelé words_by_author.\n",
    "2. Elle parcours le dictionnaire strings_by_author.\n",
    "3. Pour chaque auteur, elle tokenise la chaîne et met-la en minuscules.\n",
    "4. Elle ajoute la liste de mots au dictionnaire words_by_author."
   ]
  },
  {
   "cell_type": "code",
   "execution_count": 16,
   "id": "f2c67bbe-2a29-419f-a7e5-091f34fad185",
   "metadata": {},
   "outputs": [],
   "source": [
    "def word_dict(strings_by_author):\n",
    "    \n",
    "    words_by_author = dict()\n",
    "    for author in strings_by_author:\n",
    "        tokens = nltk.word_tokenize(strings_by_author[author])\n",
    "        words_by_author[author] = ([token.lower() for token in tokens\n",
    "                                    if token.isalpha()])\n",
    "    return words_by_author"
   ]
  },
  {
   "cell_type": "markdown",
   "id": "6e144aa6-1bdf-4273-ab4e-e06222f1dbe5",
   "metadata": {},
   "source": [
    "Nous allons stocker les résultat de fonction *word_dic(string_by_author)* dans un variable *words_by_author* et on compte combien de tokens il y a dans les differents corpus."
   ]
  },
  {
   "cell_type": "code",
   "execution_count": 17,
   "id": "cfad36a2-740b-4dde-b3fb-95155a727205",
   "metadata": {},
   "outputs": [
    {
     "name": "stdout",
     "output_type": "stream",
     "text": [
      "Shelley 247598\n",
      "Unwritten 19395\n",
      "FanFiction 59132\n"
     ]
    }
   ],
   "source": [
    "words_by_author = word_dict(strings_by_author)\n",
    "for author in words_by_author:\n",
    "    print(author, len(words_by_author[author]))\n",
    "    #print(author, words_by_author[author][:300])"
   ]
  },
  {
   "cell_type": "markdown",
   "id": "3f3c3728-fabb-4986-8b52-65bd64dacbf8",
   "metadata": {},
   "source": [
    "Pour pouvoir faire les comparaisons de differents textes, nous avons besoin connaître le corpus qui est le plus court. <br><br>\n",
    "Voici ce que fait la fonction *shortes_corpus(words_by_author)*:\n",
    "1. Elle crée une liste vide appelée word_count.\n",
    "2. Elle parcourt le dictionnaire words_by_author.\n",
    "3. Pour chaque auteur, elle ajoute la longueur de la liste de mots à la liste word_count.\n",
    "4. Elle trouve la valeur minimale dans la liste word_count.\n",
    "5. Elle renvoie la valeur minimale."
   ]
  },
  {
   "cell_type": "code",
   "execution_count": 30,
   "id": "5952889f-33d1-458d-bb57-61509dd25c57",
   "metadata": {},
   "outputs": [],
   "source": [
    "def shortest_corpus(words_by_author):\n",
    "    word_count = []\n",
    "    for author in words_by_author:\n",
    "        word_count.append(len(words_by_author[author]))\n",
    "        \n",
    "    len_shortest_corpus = min(word_count)\n",
    "    return len_shortest_corpus"
   ]
  },
  {
   "cell_type": "code",
   "execution_count": 31,
   "id": "44cfacae-964f-4daa-ac12-d8fafca1dd45",
   "metadata": {},
   "outputs": [
    {
     "name": "stdout",
     "output_type": "stream",
     "text": [
      "Number of words in shortest corpus is = 19395\n",
      "\n"
     ]
    }
   ],
   "source": [
    "len_shortest_corpus = shortest_corpus(words_by_author)\n",
    "print('Number of words in shortest corpus is = {}\\n'.format(len_shortest_corpus))"
   ]
  },
  {
   "cell_type": "markdown",
   "id": "c86b7d26-2e23-469c-ae7c-0966338bd5cc",
   "metadata": {},
   "source": [
    "Dans mon cas, je corpus le plus court est celui-là qui généré par GPT3. "
   ]
  },
  {
   "cell_type": "markdown",
   "id": "77d4b0e2-ba90-4f8b-92b3-1c610e6cb02d",
   "metadata": {},
   "source": [
    " Plot stopwords freq by author, truncated to shortest corpus length.\n",
    " Le premiers test à réaliser est la comparaison de fréquence de stopwords (ou les mots fonctionels) entre nos diffférents corpus. <br><br>\n",
    "Voici ce que fait la fonction *stopword_test(words_by_author, len_shortest_corpus)*:<br>\n",
    "1. Elle prend en entrée le dictionnaire words_by_author.\n",
    "2. Elle crée un nouveau dictionnaire appelé stopwords_by_author_freq_dist.\n",
    "3. Elle parcourt le dictionnaire words_by_author et, pour chaque auteur, elle crée une liste de mots fonctionnels.\n",
    "4. Elle crée ensuite une distribution de fréquences pour les mots fonctionnels de chaque auteur.\n",
    "5. Elle trace la distribution de fréquences pour chaque auteur."
   ]
  },
  {
   "cell_type": "code",
   "execution_count": 48,
   "id": "b7d2f688-0e0b-40bb-8503-fc65bf17cbb9",
   "metadata": {},
   "outputs": [],
   "source": [
    "def stopwords_test(words_by_author, len_shortest_corpus):\n",
    "    stopwords_by_author_freq_dist = dict()\n",
    "    stop_words = set(stopwords.words('english'))  \n",
    "    print('Number of stopwords = {}\\n'.format(len(stop_words)))\n",
    "    #print('Stopwords = {}\\n'.format(stop_words))\n",
    "    for i, author in enumerate(words_by_author):\n",
    "        stopwords_by_author = [word for word in words_by_author[author]\n",
    "        [:len_shortest_corpus] if word in stop_words]\n",
    "        stopwords_by_author_freq_dist[author] = nltk.FreqDist(stopwords_by_author)\n",
    "        stopwords_by_author_freq_dist[author].plot(30,title=author)"
   ]
  },
  {
   "cell_type": "code",
   "execution_count": 49,
   "id": "abec7b3c-f0cd-442e-afe1-3d376f1c4745",
   "metadata": {
    "tags": []
   },
   "outputs": [
    {
     "name": "stdout",
     "output_type": "stream",
     "text": [
      "Number of stopwords = 179\n",
      "\n"
     ]
    },
    {
     "data": {
      "image/png": "[encoded data removed]",
      "text/plain": [
       "<Figure size 432x288 with 1 Axes>"
      ]
     },
     "metadata": {
      "needs_background": "light"
     },
     "output_type": "display_data"
    },
    {
     "data": {
      "image/png": "[encoded data removed]",
      "text/plain": [
       "<Figure size 432x288 with 1 Axes>"
      ]
     },
     "metadata": {
      "needs_background": "light"
     },
     "output_type": "display_data"
    },
    {
     "data": {
      "image/png": "[encoded data removed]",
      "text/plain": [
       "<Figure size 432x288 with 1 Axes>"
      ]
     },
     "metadata": {
      "needs_background": "light"
     },
     "output_type": "display_data"
    }
   ],
   "source": [
    "stopwords_test(words_by_author, len_shortest_corpus)"
   ]
  },
  {
   "cell_type": "markdown",
   "id": "96ae7e4a-f81b-4891-bcd4-ed47dcca4f8e",
   "metadata": {},
   "source": [
    "word_length_test par mendenhall test"
   ]
  },
  {
   "cell_type": "markdown",
   "id": "de63146c-d3d0-433d-bb09-90e7ab36c159",
   "metadata": {},
   "source": [
    "Voici ce que fait la fonction *mendenhall_test(words_by_author, len_shortest_corpus)*:\n",
    "1. Elle prend en entrée une liste de mots par auteur.\n",
    "2. Elle crée un dictionnaire de fréquences de mots par auteur.\n",
    "3. Elle crée un dictionnaire de fréquences de mots par auteur, mais on compare uniquement les corpus de la même taille, cela veut dire le corpus le plus court.\n",
    "4. Elle crée un dictionnaire de mots"
   ]
  },
  {
   "cell_type": "code",
   "execution_count": 42,
   "id": "bde03a63-d5d6-4317-a005-2780892cdd55",
   "metadata": {},
   "outputs": [],
   "source": [
    "def mendenhall_test(words_by_author, len_shortest_corpus):\n",
    "    mendenhall_by_author_freq_dist = dict()\n",
    "    for i, author in enumerate(words_by_author):\n",
    "        token_lengths = [len(word) for word in words_by_author[author]\n",
    "        [:len_shortest_corpus]]\n",
    "        mendenhall_by_author_freq_dist[author] = nltk.FreqDist(token_lengths)\n",
    "        mendenhall_by_author_freq_dist[author].plot(15,title=author)"
   ]
  },
  {
   "cell_type": "markdown",
   "id": "66ca7e9d-a0a1-4b00-8953-d860b2c71315",
   "metadata": {},
   "source": [
    "Voici ce que fait la fonction *vocab_test* qui prend un argument *words_by_author*:<br>\n",
    "1. Pour chaque auteur, elle combine le corpus de l'auteur avec le corpus inconnu.\n",
    "2. Elle trouve les 1000 mots les plus courants dans le corpus combiné.\n",
    "3. Pour chacun des 1000 mots les plus communs, elle calcule le nombre d'observations et le nombre attendu pour l'auteur.\n",
    "4. Elle calcule la statistique du chi carré"
   ]
  },
  {
   "cell_type": "code",
   "execution_count": 50,
   "id": "6f0786f7-921f-4236-a12e-5fa333edb0a2",
   "metadata": {},
   "outputs": [],
   "source": [
    "def vocab_test(words_by_author):\n",
    "    chisquared_by_author = dict()\n",
    "    for author in words_by_author:\n",
    "        if author != 'Unwritten':\n",
    "            # Combine corpus for author & unknown & find 1000 most-common words.\n",
    "            combined_corpus = (words_by_author[author] +\n",
    "                               words_by_author['Unwritten'])\n",
    "            author_proportion = (len(words_by_author[author]) /\n",
    "                                 len(combined_corpus))\n",
    "            combined_freq_dist = nltk.FreqDist(combined_corpus)\n",
    "            most_common_words = list(combined_freq_dist.most_common(1000))\n",
    "            chisquared = 0\n",
    "\n",
    "            # Calculate observed vs. expected word counts.\n",
    "            for word, combined_count in most_common_words:\n",
    "                observed_count_author = words_by_author[author].count(word)\n",
    "                expected_count_author = combined_count * author_proportion\n",
    "                chisquared += ((observed_count_author -\n",
    "                                expected_count_author) ** 2 /\n",
    "                               expected_count_author)\n",
    "                chisquared_by_author[author] = chisquared\n",
    "            print('Chi-squared for {} = {:.1f}'.format(author, chisquared))\n",
    "\n",
    "    most_likely_author = min(chisquared_by_author, key=chisquared_by_author.get)\n",
    "    print('Most-likely author by vocabulary is {}\\n'.format(most_likely_author))"
   ]
  },
  {
   "cell_type": "code",
   "execution_count": 51,
   "id": "a5648851-c9d2-4738-b4a7-7e55a0e85472",
   "metadata": {},
   "outputs": [
    {
     "name": "stdout",
     "output_type": "stream",
     "text": [
      "Chi-squared for Shelley = 1422.1\n",
      "Chi-squared for FanFiction = 2961.3\n",
      "Most-likely author by vocabulary is Shelley\n",
      "\n"
     ]
    }
   ],
   "source": [
    "vocab_test(words_by_author)"
   ]
  },
  {
   "cell_type": "markdown",
   "id": "897da64b-1bdf-404f-b785-ee39f71ca318",
   "metadata": {},
   "source": [
    "Voici ce que fait la fonction *parts_of_speech_test*:<br>\n",
    "1. Elle prend en entrée le dictionnaire words_by_author et la longueur du plus court corpus.\n",
    "2. Elle crée un nouveau dictionnaire appelé by_author_pos_freq_dist.\n",
    "3. Elle parcourt le dictionnaire words_by_author.\n",
    "4. Elle crée une liste de parties du discours"
   ]
  },
  {
   "cell_type": "code",
   "execution_count": 52,
   "id": "a1752cf1-cc5d-4827-9407-d5b433eda3b1",
   "metadata": {},
   "outputs": [],
   "source": [
    "def parts_of_speech_test(words_by_author, len_shortest_corpus):\n",
    "    by_author_pos_freq_dist = dict()\n",
    "    for i, author in enumerate(words_by_author):\n",
    "        pos_by_author = [pos[1] for pos in nltk.pos_tag(words_by_author[author]\n",
    "                                                        [:len_shortest_corpus])]\n",
    "        by_author_pos_freq_dist[author] = nltk.FreqDist(pos_by_author)\n",
    "        by_author_pos_freq_dist[author].plot(35,title=author)"
   ]
  },
  {
   "cell_type": "code",
   "execution_count": 53,
   "id": "37391e96-d9a8-4fca-af60-600f65110440",
   "metadata": {
    "tags": []
   },
   "outputs": [
    {
     "data": {
      "image/png": "[encoded data removed]",
      "text/plain": [
       "<Figure size 432x288 with 1 Axes>"
      ]
     },
     "metadata": {
      "needs_background": "light"
     },
     "output_type": "display_data"
    },
    {
     "data": {
      "image/png": "[encoded data removed]",
      "text/plain": [
       "<Figure size 432x288 with 1 Axes>"
      ]
     },
     "metadata": {
      "needs_background": "light"
     },
     "output_type": "display_data"
    },
    {
     "data": {
      "image/png": "[encoded data removed]",
      "text/plain": [
       "<Figure size 432x288 with 1 Axes>"
      ]
     },
     "metadata": {
      "needs_background": "light"
     },
     "output_type": "display_data"
    }
   ],
   "source": [
    "parts_of_speech_test(words_by_author, len_shortest_corpus)"
   ]
  },
  {
   "cell_type": "markdown",
   "id": "3c65f03f-0bde-4835-a6b1-a535cca8c7fb",
   "metadata": {},
   "source": [
    "Voici ce que fait la fonction *jaccard_test(words_by_author, len_shortest_corpus)*:\n",
    "1. Elle crée un ensemble de mots uniques à partir du texte unwritten.\n",
    "2. Elle parcours les auteurs, en créant un ensemble de mots uniques à partir du texte de chacue auteur.\n",
    "3. Elle trouve l'intersection des mots uniques du texte unwritten et des\n",
    "   mots uniques du texte de l'auteur.\n",
    "4. Elle calcule la similarité de Jaccard entre le texte inconnu et le texte de  l'auteur.\n",
    "5. Elle affiche la similarité de Jaccard pour chaque auteur.\n",
    "6. Elle trouve l'auteur ayant la plus grande similarité de Jaccard.\n",
    "7. Elle affiche l'auteur le plus susceptible."
   ]
  },
  {
   "cell_type": "code",
   "execution_count": 54,
   "id": "6bbc0310-94e0-46bf-a435-46b0d842396b",
   "metadata": {},
   "outputs": [],
   "source": [
    "def jaccard_test(words_by_author, len_shortest_corpus):\n",
    "    jaccard_by_author = dict()\n",
    "    unique_words_unknown = set(words_by_author['Unwritten']\n",
    "                               [:len_shortest_corpus])\n",
    "    authors = (author for author in words_by_author if author != 'Unwritten')\n",
    "    for author in authors:\n",
    "        unique_words_author = set(words_by_author[author][:len_shortest_corpus])\n",
    "        shared_words = unique_words_author.intersection(unique_words_unknown)\n",
    "        jaccard_sim = (float(len(shared_words)) / (len(unique_words_author) +\n",
    "                                                   len(unique_words_unknown) -\n",
    "                                                   len(shared_words)))\n",
    "        jaccard_by_author[author] = jaccard_sim\n",
    "        print('Jaccard Similarity for {} = {}'.format(author, jaccard_sim))\n",
    "\n",
    "    most_likely_author = max(jaccard_by_author, key=jaccard_by_author.get)\n",
    "    print('Most-likely author by similarity is {}'.format(most_likely_author))"
   ]
  },
  {
   "cell_type": "code",
   "execution_count": 55,
   "id": "f1d3121c-ddb8-4063-9154-cb2ae6ccf83a",
   "metadata": {},
   "outputs": [
    {
     "name": "stdout",
     "output_type": "stream",
     "text": [
      "Jaccard Similarity for Shelley = 0.2212637481130041\n",
      "Jaccard Similarity for FanFiction = 0.2535429013140943\n",
      "Most-likely author by similarity is FanFiction\n"
     ]
    }
   ],
   "source": [
    "jaccard_test(words_by_author, len_shortest_corpus)"
   ]
  },
  {
   "cell_type": "code",
   "execution_count": null,
   "id": "b3fa9516-b31f-4839-96f1-e7e408680fb2",
   "metadata": {},
   "outputs": [],
   "source": []
  },
  {
   "cell_type": "code",
   "execution_count": null,
   "id": "e092d719-bb0c-46ba-bb2f-9190009ba86d",
   "metadata": {},
   "outputs": [],
   "source": []
  },
  {
   "cell_type": "code",
   "execution_count": null,
   "id": "e745b994-7581-4ecc-86de-4f16e10ff994",
   "metadata": {},
   "outputs": [],
   "source": []
  },
  {
   "cell_type": "code",
   "execution_count": null,
   "id": "bd828b83-188a-4a25-a0f1-aa43489b404f",
   "metadata": {},
   "outputs": [],
   "source": []
  }
 ],
 "metadata": {
  "kernelspec": {
   "display_name": "Python 3 (ipykernel)",
   "language": "python",
   "name": "python3"
  },
  "language_info": {
   "codemirror_mode": {
    "name": "ipython",
    "version": 3
   },
   "file_extension": ".py",
   "mimetype": "text/x-python",
   "name": "python",
   "nbconvert_exporter": "python",
   "pygments_lexer": "ipython3",
   "version": "3.8.12"
  }
 },
 "nbformat": 4,
 "nbformat_minor": 5
}
