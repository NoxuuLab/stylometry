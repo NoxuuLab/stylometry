{
 "cells": [
  {
   "cell_type": "markdown",
   "id": "410d2476-e8ca-4c7a-b84a-392b12d4e260",
   "metadata": {},
   "source": [
    "### IMPORTATION DES LIBRARIES"
   ]
  },
  {
   "cell_type": "markdown",
   "id": "2430d279-090c-443b-b4e8-0c9e2ca4f93a",
   "metadata": {},
   "source": [
    "\n",
    "\n",
    "Pour le traitement des données les librairies que j'ai besoin:\n",
    "<br><br>\n",
    "<b>Python 3.x</b> - j'utilise 3.9<br>\n",
    "<b>nltk</b> - Natural Language Toolkit, un module Python dédié au traitement du langage naturel.<br>\n",
    "<b>matplotlib</b> - la librairie pour faire les graphique"
   ]
  },
  {
   "cell_type": "code",
   "execution_count": 1,
   "id": "5dfad9e0-b60b-430e-8f46-1ce8933f0f9f",
   "metadata": {},
   "outputs": [],
   "source": [
    "import nltk"
   ]
  },
  {
   "cell_type": "code",
   "execution_count": 2,
   "id": "03cc13f9-5687-4117-8f3a-fd0e057c2064",
   "metadata": {},
   "outputs": [],
   "source": [
    "#nltk.download('punkt')"
   ]
  },
  {
   "cell_type": "code",
   "execution_count": 3,
   "id": "44148253-f89d-4c10-9c86-0844621a6049",
   "metadata": {},
   "outputs": [],
   "source": [
    "#nltk.download('stopwords')"
   ]
  },
  {
   "cell_type": "code",
   "execution_count": 4,
   "id": "f646ae84-ed69-42ad-97b0-c195426cb7a1",
   "metadata": {},
   "outputs": [],
   "source": [
    "#nltk.download('averaged_perceptron_tagger')"
   ]
  },
  {
   "cell_type": "code",
   "execution_count": 5,
   "id": "6c8470b4-b656-4988-a579-ce6b10e89e93",
   "metadata": {},
   "outputs": [],
   "source": [
    "#nltk.download()"
   ]
  },
  {
   "cell_type": "code",
   "execution_count": 6,
   "id": "606fa982-8dd7-47d2-b288-4b0d31141ff1",
   "metadata": {},
   "outputs": [],
   "source": [
    "from nltk import punkt"
   ]
  },
  {
   "cell_type": "code",
   "execution_count": 7,
   "id": "0c548d69-1c62-43df-b5f6-a6b338b40ca2",
   "metadata": {},
   "outputs": [],
   "source": [
    "from nltk.corpus import stopwords"
   ]
  },
  {
   "cell_type": "code",
   "execution_count": 8,
   "id": "cfc59a60-cc4b-4d27-aa9e-32cd344c2aea",
   "metadata": {},
   "outputs": [],
   "source": [
    "import matplotlib.pyplot as plt"
   ]
  },
  {
   "cell_type": "code",
   "execution_count": 9,
   "id": "e40230ac-7c0c-4fec-8833-e35b0304172e",
   "metadata": {},
   "outputs": [],
   "source": [
    "import pandas as pd"
   ]
  },
  {
   "cell_type": "markdown",
   "id": "125736b2-e2fb-4d33-95c7-39dc2c6a196b",
   "metadata": {},
   "source": [
    "### La préparations des données pour l'analyse\n"
   ]
  },
  {
   "cell_type": "markdown",
   "id": "bc476703-0e53-4226-afcc-a9b8256656d9",
   "metadata": {},
   "source": [
    "Avant de pouvoir procéder à une analyse stylométrique, nous devons charger les fichiers dans contenant les livres de Mary Shelley, des courts novels généré par GPT3 et le novel écrit par un fanfiction dans des structures de données pratiques en mémoire informatique."
   ]
  },
  {
   "cell_type": "markdown",
   "id": "8e03a4ec-e337-45e3-b8df-90e95fb2ce89",
   "metadata": {},
   "source": [
    "d'abors on va ouvrir le txt document et le transformer en string"
   ]
  },
  {
   "cell_type": "code",
   "execution_count": 10,
   "id": "0dd3ac7f-9510-4c1e-a3c1-15815b7b3adf",
   "metadata": {},
   "outputs": [],
   "source": [
    "def text_to_string(filename):\n",
    "    with open(filename) as infile:\n",
    "        return infile.read()"
   ]
  },
  {
   "cell_type": "code",
   "execution_count": 11,
   "id": "ab00c7c1-cfbe-4155-ade3-50d75275982e",
   "metadata": {
    "tags": []
   },
   "outputs": [
    {
     "name": "stdout",
     "output_type": "stream",
     "text": [
      "\n",
      "\n",
      "\n",
      "\n",
      "\n",
      "                                   I.\n",
      "\n",
      "                        _THE SISTERS OF ALBANO._\n",
      "\n",
      "           “And near Albano’s scarce divided waves\n",
      "            Shine from a sister valley;—and afar\n",
      "            The Tiber winds, and the broad ocean laves\n",
      "            The Latian coast where sprang the Epic \n"
     ]
    }
   ],
   "source": [
    "strings_by_author = dict()\n",
    "strings_by_author['Shelley'] = text_to_string('/Users/marcela/Documents/GitHub/stylometry/txt/frankenstein.txt')+text_to_string('/Users/marcela/Documents/GitHub/stylometry/txt/LastMan.txt')\n",
    "strings_by_author['Unwritten'] = text_to_string('/Users/marcela/Documents/GitHub/stylometry/txt/unwritten.txt')\n",
    "strings_by_author['FanFiction'] = text_to_string('/Users/marcela/Documents/GitHub/stylometry/txt/fanfiction.txt')\n",
    "print(strings_by_author['Unwritten'][:300]) \n"
   ]
  },
  {
   "cell_type": "markdown",
   "id": "e5a8d1ce-c4dd-4cb3-8927-c4e5b4b99d03",
   "metadata": {},
   "source": [
    "Return dictionary of tokenized words by corpus by book + lower case tokens"
   ]
  },
  {
   "cell_type": "code",
   "execution_count": 12,
   "id": "f2c67bbe-2a29-419f-a7e5-091f34fad185",
   "metadata": {},
   "outputs": [],
   "source": [
    "def word_dict(strings_by_author):\n",
    "    \n",
    "    words_by_author = dict()\n",
    "    for author in strings_by_author:\n",
    "        tokens = nltk.word_tokenize(strings_by_author[author])\n",
    "        words_by_author[author] = ([token.lower() for token in tokens\n",
    "                                    if token.isalpha()])\n",
    "    return words_by_author"
   ]
  },
  {
   "cell_type": "code",
   "execution_count": 13,
   "id": "cfad36a2-740b-4dde-b3fb-95155a727205",
   "metadata": {},
   "outputs": [
    {
     "name": "stdout",
     "output_type": "stream",
     "text": [
      "Shelley 247598\n",
      "Unwritten 123345\n"
     ]
    }
   ],
   "source": [
    "words_by_author = word_dict(strings_by_author)\n",
    "for author in words_by_author:\n",
    "    print(author, len(words_by_author[author]))\n",
    "    #print(author, words_by_author[author][:300])"
   ]
  },
  {
   "cell_type": "code",
   "execution_count": 14,
   "id": "51e31006-f722-4229-84ac-5f018acf7fe7",
   "metadata": {},
   "outputs": [],
   "source": [
    "LINES = ['-', ':', '--', '-.']\n"
   ]
  },
  {
   "cell_type": "code",
   "execution_count": 15,
   "id": "5952889f-33d1-458d-bb57-61509dd25c57",
   "metadata": {},
   "outputs": [],
   "source": [
    "def shortest_corpus(words_by_author):\n",
    "    word_count = []\n",
    "    for author in words_by_author:\n",
    "        word_count.append(len(words_by_author[author]))\n",
    "        \n",
    "    len_shortest_corpus = min(word_count)\n",
    "    return len_shortest_corpus"
   ]
  },
  {
   "cell_type": "code",
   "execution_count": 16,
   "id": "44cfacae-964f-4daa-ac12-d8fafca1dd45",
   "metadata": {},
   "outputs": [
    {
     "name": "stdout",
     "output_type": "stream",
     "text": [
      "Number of words in shortest corpus is = 123345\n",
      "\n"
     ]
    }
   ],
   "source": [
    "len_shortest_corpus = shortest_corpus(words_by_author)\n",
    "print('Number of words in shortest corpus is = {}\\n'.format(len_shortest_corpus))"
   ]
  },
  {
   "cell_type": "markdown",
   "id": "77d4b0e2-ba90-4f8b-92b3-1c610e6cb02d",
   "metadata": {},
   "source": [
    " Plot stopwords freq by author, truncated to shortest corpus length."
   ]
  },
  {
   "cell_type": "code",
   "execution_count": 70,
   "id": "6500ef4b-2d7b-4c6b-b506-bf9d964943ae",
   "metadata": {},
   "outputs": [],
   "source": [
    "%matplotlib inline"
   ]
  },
  {
   "cell_type": "code",
   "execution_count": 100,
   "id": "b7d2f688-0e0b-40bb-8503-fc65bf17cbb9",
   "metadata": {},
   "outputs": [],
   "source": [
    "def stopwords_test(words_by_author, len_shortest_corpus):\n",
    "    stopwords_by_author_freq_dist = dict()\n",
    "    plt.figure(2)\n",
    "    stop_words = set(stopwords.words('english'))  # Use set for speed.\n",
    "    print('Number of stopwords = {}\\n'.format(len(stop_words)))\n",
    "    #print('Stopwords = {}\\n'.format(stop_words))\n",
    "    for i, author in enumerate(words_by_author):\n",
    "        stopwords_by_author = [word for word in words_by_author[author]\n",
    "        [:len_shortest_corpus] if word in stop_words]\n",
    "        stopwords_by_author_freq_dist[author] = nltk.FreqDist(stopwords_by_author)\n",
    "        stopwords_by_author_freq_dist[author].plot(30,title=author)"
   ]
  },
  {
   "cell_type": "code",
   "execution_count": 101,
   "id": "abec7b3c-f0cd-442e-afe1-3d376f1c4745",
   "metadata": {
    "collapsed": true,
    "jupyter": {
     "outputs_hidden": true
    },
    "tags": []
   },
   "outputs": [
    {
     "name": "stdout",
     "output_type": "stream",
     "text": [
      "Number of stopwords = 179\n",
      "\n"
     ]
    },
    {
     "data": {
      "image/png": "[encoded data removed]",
      "text/plain": [
       "<Figure size 432x288 with 1 Axes>"
      ]
     },
     "metadata": {
      "needs_background": "light"
     },
     "output_type": "display_data"
    },
    {
     "data": {
      "image/png": "[encoded data removed]",
      "text/plain": [
       "<Figure size 432x288 with 1 Axes>"
      ]
     },
     "metadata": {
      "needs_background": "light"
     },
     "output_type": "display_data"
    }
   ],
   "source": [
    "stopwords_test(words_by_author, len_shortest_corpus)"
   ]
  },
  {
   "cell_type": "markdown",
   "id": "96ae7e4a-f81b-4891-bcd4-ed47dcca4f8e",
   "metadata": {},
   "source": [
    "word_length_test par mendenhall test"
   ]
  },
  {
   "cell_type": "code",
   "execution_count": 115,
   "id": "bde03a63-d5d6-4317-a005-2780892cdd55",
   "metadata": {},
   "outputs": [],
   "source": [
    "def mendenhall_test(words_by_author, len_shortest_corpus):\n",
    "    mendenhall_by_author_freq_dist = dict()\n",
    "    plt.figure(2)\n",
    "    for i, author in enumerate(words_by_author):\n",
    "        token_lengths = [len(word) for word in words_by_author[author]\n",
    "        [:len_shortest_corpus]]\n",
    "        mendenhall_by_author_freq_dist[author] = nltk.FreqDist(token_lengths)\n",
    "        mendenhall_by_author_freq_dist[author].plot(15,title=author)"
   ]
  },
  {
   "cell_type": "code",
   "execution_count": 116,
   "id": "61f4a512-cf3d-40e7-a0b2-9d80e518ff9d",
   "metadata": {
    "collapsed": true,
    "jupyter": {
     "outputs_hidden": true
    },
    "tags": []
   },
   "outputs": [
    {
     "data": {
      "image/png": "[encoded data removed]",
      "text/plain": [
       "<Figure size 432x288 with 1 Axes>"
      ]
     },
     "metadata": {
      "needs_background": "light"
     },
     "output_type": "display_data"
    },
    {
     "data": {
      "image/png": "[encoded data removed]",
      "text/plain": [
       "<Figure size 432x288 with 1 Axes>"
      ]
     },
     "metadata": {
      "needs_background": "light"
     },
     "output_type": "display_data"
    }
   ],
   "source": [
    "mendenhall_test(words_by_author, len_shortest_corpus)"
   ]
  },
  {
   "cell_type": "code",
   "execution_count": 119,
   "id": "6f0786f7-921f-4236-a12e-5fa333edb0a2",
   "metadata": {},
   "outputs": [],
   "source": [
    "def vocab_test(words_by_author):\n",
    "    chisquared_by_author = dict()\n",
    "    for author in words_by_author:\n",
    "        if author != 'unwritten':\n",
    "            # Combine corpus for author & unknown & find 1000 most-common words.\n",
    "            combined_corpus = (words_by_author[author] +\n",
    "                               words_by_author['Unwritten'])\n",
    "            author_proportion = (len(words_by_author[author]) /\n",
    "                                 len(combined_corpus))\n",
    "            combined_freq_dist = nltk.FreqDist(combined_corpus)\n",
    "            most_common_words = list(combined_freq_dist.most_common(1000))\n",
    "            chisquared = 0\n",
    "\n",
    "            # Calculate observed vs. expected word counts.\n",
    "            for word, combined_count in most_common_words:\n",
    "                observed_count_author = words_by_author[author].count(word)\n",
    "                expected_count_author = combined_count * author_proportion\n",
    "                chisquared += ((observed_count_author -\n",
    "                                expected_count_author) ** 2 /\n",
    "                               expected_count_author)\n",
    "                chisquared_by_author[author] = chisquared\n",
    "            print('Chi-squared for {} = {:.1f}'.format(author, chisquared))\n",
    "\n",
    "    most_likely_author = min(chisquared_by_author, key=chisquared_by_author.get)\n",
    "    print('Most-likely author by vocabulary is {}\\n'.format(most_likely_author))"
   ]
  },
  {
   "cell_type": "code",
   "execution_count": 120,
   "id": "a5648851-c9d2-4738-b4a7-7e55a0e85472",
   "metadata": {},
   "outputs": [
    {
     "name": "stdout",
     "output_type": "stream",
     "text": [
      "Chi-squared for Shelley = 2906.3\n",
      "Chi-squared for Unwritten = 0.0\n",
      "Most-likely author by vocabulary is Unwritten\n",
      "\n"
     ]
    }
   ],
   "source": [
    "vocab_test(words_by_author)"
   ]
  },
  {
   "cell_type": "code",
   "execution_count": 125,
   "id": "a1752cf1-cc5d-4827-9407-d5b433eda3b1",
   "metadata": {},
   "outputs": [],
   "source": [
    "def parts_of_speech_test(words_by_author, len_shortest_corpus):\n",
    "    by_author_pos_freq_dist = dict()\n",
    "    for i, author in enumerate(words_by_author):\n",
    "        pos_by_author = [pos[1] for pos in nltk.pos_tag(words_by_author[author]\n",
    "                                                        [:len_shortest_corpus])]\n",
    "        by_author_pos_freq_dist[author] = nltk.FreqDist(pos_by_author)\n",
    "        by_author_pos_freq_dist[author].plot(35,title=author)"
   ]
  },
  {
   "cell_type": "code",
   "execution_count": 126,
   "id": "37391e96-d9a8-4fca-af60-600f65110440",
   "metadata": {
    "collapsed": true,
    "jupyter": {
     "outputs_hidden": true
    },
    "tags": []
   },
   "outputs": [
    {
     "data": {
      "image/png": "[encoded data removed]",
      "text/plain": [
       "<Figure size 432x288 with 1 Axes>"
      ]
     },
     "metadata": {
      "needs_background": "light"
     },
     "output_type": "display_data"
    },
    {
     "data": {
      "image/png": "[encoded data removed]",
      "text/plain": [
       "<Figure size 432x288 with 1 Axes>"
      ]
     },
     "metadata": {
      "needs_background": "light"
     },
     "output_type": "display_data"
    }
   ],
   "source": [
    "parts_of_speech_test(words_by_author, len_shortest_corpus)"
   ]
  },
  {
   "cell_type": "code",
   "execution_count": 170,
   "id": "b88c78c1-1db3-4bf1-a461-1a63a2760667",
   "metadata": {},
   "outputs": [],
   "source": [
    "def delta_test(words_by_author):\n",
    "    whole_corpus_freq_dist = list(nltk.FreqDist(words_by_author).most_common(150))\n",
    "    whole_corpus_freq_dist[:10]"
   ]
  },
  {
   "cell_type": "code",
   "execution_count": null,
   "id": "874159f2-0158-436c-b261-2e901903bcc4",
   "metadata": {},
   "outputs": [],
   "source": []
  },
  {
   "cell_type": "code",
   "execution_count": 171,
   "id": "4acdf9f5-11ac-42a1-ad10-d551760292bb",
   "metadata": {},
   "outputs": [
    {
     "name": "stdout",
     "output_type": "stream",
     "text": [
      "None\n"
     ]
    }
   ],
   "source": [
    "print(delta_test(words_by_author))"
   ]
  },
  {
   "cell_type": "code",
   "execution_count": 172,
   "id": "fe8dcc5f-d535-48b5-81a3-8a23960c3f39",
   "metadata": {},
   "outputs": [],
   "source": [
    "def delta_method_test(words_by_author):\n",
    "    whole_corpus = []\n",
    "    for word in words_by_author:\n",
    "        whole_corpus += words_by_author\n",
    "\n",
    "    # Get a frequency distribution\n",
    "    whole_corpus_freq_dist = list(nltk.FreqDist(whole_corpus).most_common(30))\n",
    "    whole_corpus_freq_dist[ :10 ]"
   ]
  },
  {
   "cell_type": "code",
   "execution_count": 173,
   "id": "aecd230b-8a52-4090-8b40-d0825e352c7d",
   "metadata": {},
   "outputs": [
    {
     "name": "stdout",
     "output_type": "stream",
     "text": [
      "None\n"
     ]
    }
   ],
   "source": [
    "print(delta_method_test(words_by_author))"
   ]
  },
  {
   "cell_type": "markdown",
   "id": "5f2c8cca-31f8-4d9f-8501-0d6e40144ca2",
   "metadata": {},
   "source": [
    " Calculate Jaccard similarity of each known corpus to unknown corpus."
   ]
  },
  {
   "cell_type": "code",
   "execution_count": null,
   "id": "6bbc0310-94e0-46bf-a435-46b0d842396b",
   "metadata": {},
   "outputs": [],
   "source": [
    "def jaccard_test(words_by_author, len_shortest_corpus):\n",
    "    jaccard_by_author = dict()\n",
    "    unique_words_unknown = set(words_by_author['unknown']\n",
    "                               [:len_shortest_corpus])\n",
    "    authors = (author for author in words_by_author if author != 'unknown')\n",
    "    for author in authors:\n",
    "        unique_words_author = set(words_by_author[author][:len_shortest_corpus])\n",
    "        shared_words = unique_words_author.intersection(unique_words_unknown)\n",
    "        jaccard_sim = (float(len(shared_words)) / (len(unique_words_author) +\n",
    "                                                   len(unique_words_unknown) -\n",
    "                                                   len(shared_words)))\n",
    "        jaccard_by_author[author] = jaccard_sim\n",
    "        print('Jaccard Similarity for {} = {}'.format(author, jaccard_sim))\n",
    "\n",
    "    most_likely_author = max(jaccard_by_author, key=jaccard_by_author.get)\n",
    "    print('Most-likely author by similarity is {}'.format(most_likely_author))"
   ]
  },
  {
   "cell_type": "code",
   "execution_count": null,
   "id": "f1d3121c-ddb8-4063-9154-cb2ae6ccf83a",
   "metadata": {},
   "outputs": [],
   "source": [
    "jaccard_test(words_by_author, len_shortest_corpus)"
   ]
  },
  {
   "cell_type": "code",
   "execution_count": null,
   "id": "b3fa9516-b31f-4839-96f1-e7e408680fb2",
   "metadata": {},
   "outputs": [],
   "source": []
  },
  {
   "cell_type": "code",
   "execution_count": null,
   "id": "e092d719-bb0c-46ba-bb2f-9190009ba86d",
   "metadata": {},
   "outputs": [],
   "source": []
  },
  {
   "cell_type": "code",
   "execution_count": null,
   "id": "e745b994-7581-4ecc-86de-4f16e10ff994",
   "metadata": {},
   "outputs": [],
   "source": []
  },
  {
   "cell_type": "code",
   "execution_count": null,
   "id": "bd828b83-188a-4a25-a0f1-aa43489b404f",
   "metadata": {},
   "outputs": [],
   "source": []
  }
 ],
 "metadata": {
  "kernelspec": {
   "display_name": "Python 3 (ipykernel)",
   "language": "python",
   "name": "python3"
  },
  "language_info": {
   "codemirror_mode": {
    "name": "ipython",
    "version": 3
   },
   "file_extension": ".py",
   "mimetype": "text/x-python",
   "name": "python",
   "nbconvert_exporter": "python",
   "pygments_lexer": "ipython3",
   "version": "3.8.12"
  }
 },
 "nbformat": 4,
 "nbformat_minor": 5
}
