{
 "cells": [
  {
   "cell_type": "code",
   "execution_count": 1,
   "id": "5dfad9e0-b60b-430e-8f46-1ce8933f0f9f",
   "metadata": {},
   "outputs": [],
   "source": [
    "import nltk"
   ]
  },
  {
   "cell_type": "code",
   "execution_count": 2,
   "id": "03cc13f9-5687-4117-8f3a-fd0e057c2064",
   "metadata": {},
   "outputs": [],
   "source": [
    "#nltk.download('punkt')"
   ]
  },
  {
   "cell_type": "code",
   "execution_count": 3,
   "id": "44148253-f89d-4c10-9c86-0844621a6049",
   "metadata": {},
   "outputs": [],
   "source": [
    "#nltk.download('stopwords')"
   ]
  },
  {
   "cell_type": "code",
   "execution_count": 4,
   "id": "f646ae84-ed69-42ad-97b0-c195426cb7a1",
   "metadata": {},
   "outputs": [],
   "source": [
    "#nltk.download('averaged_perceptron_tagger')"
   ]
  },
  {
   "cell_type": "code",
   "execution_count": 5,
   "id": "6c8470b4-b656-4988-a579-ce6b10e89e93",
   "metadata": {},
   "outputs": [],
   "source": [
    "#nltk.download()"
   ]
  },
  {
   "cell_type": "code",
   "execution_count": 6,
   "id": "606fa982-8dd7-47d2-b288-4b0d31141ff1",
   "metadata": {},
   "outputs": [],
   "source": [
    "from nltk import punkt"
   ]
  },
  {
   "cell_type": "code",
   "execution_count": 7,
   "id": "0c548d69-1c62-43df-b5f6-a6b338b40ca2",
   "metadata": {},
   "outputs": [],
   "source": [
    "from nltk.corpus import stopwords"
   ]
  },
  {
   "cell_type": "code",
   "execution_count": 8,
   "id": "cfc59a60-cc4b-4d27-aa9e-32cd344c2aea",
   "metadata": {},
   "outputs": [],
   "source": [
    "import matplotlib as plt"
   ]
  },
  {
   "cell_type": "code",
   "execution_count": 9,
   "id": "d0d1ecc4-2b94-4381-afdf-400efe08b962",
   "metadata": {},
   "outputs": [],
   "source": [
    "LINES = ['-', ':', '--'] # Line style for plots."
   ]
  },
  {
   "cell_type": "markdown",
   "id": "125736b2-e2fb-4d33-95c7-39dc2c6a196b",
   "metadata": {},
   "source": [
    "def main ici\n"
   ]
  },
  {
   "cell_type": "markdown",
   "id": "8e03a4ec-e337-45e3-b8df-90e95fb2ce89",
   "metadata": {},
   "source": [
    "ouvrir le txt document et le transformer en string"
   ]
  },
  {
   "cell_type": "code",
   "execution_count": 10,
   "id": "0dd3ac7f-9510-4c1e-a3c1-15815b7b3adf",
   "metadata": {},
   "outputs": [],
   "source": [
    "def text_to_string(filename):\n",
    "    with open(filename) as infile:\n",
    "        return infile.read()"
   ]
  },
  {
   "cell_type": "markdown",
   "id": "e5a8d1ce-c4dd-4cb3-8927-c4e5b4b99d03",
   "metadata": {},
   "source": [
    "\"\"\"Return dictionary of tokenized words by corpus by book.egalement on a besoin de mettre tous les token en lower case"
   ]
  },
  {
   "cell_type": "code",
   "execution_count": 11,
   "id": "f2c67bbe-2a29-419f-a7e5-091f34fad185",
   "metadata": {},
   "outputs": [],
   "source": [
    "def make_word_dict(strings_from_book):\n",
    "    \n",
    "    words_from_book = dict()\n",
    "    for book in strings_from_book:\n",
    "        tokens = nltk.word_tokenize(strings_from_book[book])\n",
    "        words_from_book[book] = ([token.lower() for token in tokens\n",
    "                                    if token.isalpha()])\n",
    "    return words_from_book"
   ]
  },
  {
   "cell_type": "code",
   "execution_count": 12,
   "id": "ab00c7c1-cfbe-4155-ade3-50d75275982e",
   "metadata": {},
   "outputs": [
    {
     "ename": "FileNotFoundError",
     "evalue": "[Errno 2] No such file or directory: 'Desktop/frankensteinGPT3/Books/frankenstein.txt'",
     "output_type": "error",
     "traceback": [
      "\u001b[0;31m---------------------------------------------------------------------------\u001b[0m",
      "\u001b[0;31mFileNotFoundError\u001b[0m                         Traceback (most recent call last)",
      "\u001b[0;32m/tmp/ipykernel_72894/3979313345.py\u001b[0m in \u001b[0;36m<module>\u001b[0;34m\u001b[0m\n\u001b[1;32m      1\u001b[0m \u001b[0mstrings_from_book\u001b[0m \u001b[0;34m=\u001b[0m \u001b[0mdict\u001b[0m\u001b[0;34m(\u001b[0m\u001b[0;34m)\u001b[0m\u001b[0;34m\u001b[0m\u001b[0;34m\u001b[0m\u001b[0m\n\u001b[0;32m----> 2\u001b[0;31m \u001b[0mstrings_from_book\u001b[0m\u001b[0;34m[\u001b[0m\u001b[0;34m'Frankenstein'\u001b[0m\u001b[0;34m]\u001b[0m \u001b[0;34m=\u001b[0m \u001b[0mtext_to_string\u001b[0m\u001b[0;34m(\u001b[0m\u001b[0;34m'Desktop/frankensteinGPT3/Books/frankenstein.txt'\u001b[0m\u001b[0;34m)\u001b[0m\u001b[0;34m\u001b[0m\u001b[0;34m\u001b[0m\u001b[0m\n\u001b[0m\u001b[1;32m      3\u001b[0m \u001b[0;34m\u001b[0m\u001b[0m\n\u001b[1;32m      4\u001b[0m \u001b[0mprint\u001b[0m\u001b[0;34m(\u001b[0m\u001b[0mstrings_from_book\u001b[0m\u001b[0;34m[\u001b[0m\u001b[0;34m'Frankenstein'\u001b[0m\u001b[0;34m]\u001b[0m\u001b[0;34m[\u001b[0m\u001b[0;34m:\u001b[0m\u001b[0;36m300\u001b[0m\u001b[0;34m]\u001b[0m\u001b[0;34m)\u001b[0m\u001b[0;34m\u001b[0m\u001b[0;34m\u001b[0m\u001b[0m\n",
      "\u001b[0;32m/tmp/ipykernel_72894/1333596224.py\u001b[0m in \u001b[0;36mtext_to_string\u001b[0;34m(filename)\u001b[0m\n\u001b[1;32m      1\u001b[0m \u001b[0;32mdef\u001b[0m \u001b[0mtext_to_string\u001b[0m\u001b[0;34m(\u001b[0m\u001b[0mfilename\u001b[0m\u001b[0;34m)\u001b[0m\u001b[0;34m:\u001b[0m\u001b[0;34m\u001b[0m\u001b[0;34m\u001b[0m\u001b[0m\n\u001b[0;32m----> 2\u001b[0;31m     \u001b[0;32mwith\u001b[0m \u001b[0mopen\u001b[0m\u001b[0;34m(\u001b[0m\u001b[0mfilename\u001b[0m\u001b[0;34m)\u001b[0m \u001b[0;32mas\u001b[0m \u001b[0minfile\u001b[0m\u001b[0;34m:\u001b[0m\u001b[0;34m\u001b[0m\u001b[0;34m\u001b[0m\u001b[0m\n\u001b[0m\u001b[1;32m      3\u001b[0m         \u001b[0;32mreturn\u001b[0m \u001b[0minfile\u001b[0m\u001b[0;34m.\u001b[0m\u001b[0mread\u001b[0m\u001b[0;34m(\u001b[0m\u001b[0;34m)\u001b[0m\u001b[0;34m\u001b[0m\u001b[0;34m\u001b[0m\u001b[0m\n",
      "\u001b[0;31mFileNotFoundError\u001b[0m: [Errno 2] No such file or directory: 'Desktop/frankensteinGPT3/Books/frankenstein.txt'"
     ]
    }
   ],
   "source": [
    "strings_from_book = dict()\n",
    "strings_from_book['Frankenstein'] = text_to_string('Desktop/frankensteinGPT3/Books/frankenstein.txt')\n",
    "\n",
    "print(strings_from_book['Frankenstein'][:300]) "
   ]
  },
  {
   "cell_type": "raw",
   "id": "699ea070-4fa5-48a2-8620-8fcfdbd87086",
   "metadata": {},
   "source": []
  },
  {
   "cell_type": "code",
   "execution_count": null,
   "id": "b7d2f688-0e0b-40bb-8503-fc65bf17cbb9",
   "metadata": {},
   "outputs": [],
   "source": []
  },
  {
   "cell_type": "code",
   "execution_count": null,
   "id": "a7814011-77b4-4b4a-94a8-e24c1a1d5c14",
   "metadata": {},
   "outputs": [],
   "source": []
  }
 ],
 "metadata": {
  "kernelspec": {
   "display_name": "Python 3 (ipykernel)",
   "language": "python",
   "name": "python3"
  },
  "language_info": {
   "codemirror_mode": {
    "name": "ipython",
    "version": 3
   },
   "file_extension": ".py",
   "mimetype": "text/x-python",
   "name": "python",
   "nbconvert_exporter": "python",
   "pygments_lexer": "ipython3",
   "version": "3.8.12"
  }
 },
 "nbformat": 4,
 "nbformat_minor": 5
}
